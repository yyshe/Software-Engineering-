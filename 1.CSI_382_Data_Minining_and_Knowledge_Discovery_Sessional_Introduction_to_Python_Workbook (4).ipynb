{
  "nbformat": 4,
  "nbformat_minor": 0,
  "metadata": {
    "colab": {
      "name": "CSI 382 - Data Minining and Knowledge Discovery Sessional - Introduction to Python - Workbook.ipynb",
      "private_outputs": true,
      "provenance": [],
      "collapsed_sections": []
    },
    "kernelspec": {
      "name": "python3",
      "display_name": "Python 3"
    }
  },
  "cells": [
    {
      "cell_type": "markdown",
      "metadata": {
        "id": "vBRQiTwRCQ0x"
      },
      "source": [
        "# **CSI 382 - Data Minining and Knowledge Discovery Sessional**\n",
        "\n",
        "## **Introduction to Python - Workbook**\n",
        "\n",
        "**Instructions:**\n",
        "\n",
        "1. Plese solve all problems and submit the solved workbook in Edmodo.\n",
        "2. To download the solved workbook you should go to **File -> Download .ipynb** or **File -> Download .py**\n",
        "3. Be sure to mention your **student ID** and **name** in the first available cell, otherwise, your submission might be discarded.\n",
        "4. Submit the workbook within **03.00 PM** in **30th September 2021**, otherwise, your submission will not be counted.\n",
        "\n",
        "**Best of Luck.**"
      ]
    },
    {
      "cell_type": "markdown",
      "metadata": {
        "id": "EIxDRGm3EZuZ"
      },
      "source": [
        "---\n",
        "## **Question 1**\n",
        "\n",
        "### **Easiest Question ever!**\n",
        "\n",
        "Give some details about yourself!"
      ]
    },
    {
      "cell_type": "code",
      "metadata": {
        "id": "yPq7q9iCD00r"
      },
      "source": [
        "# Specify your student ID and name in the corresponding variables\n",
        "student_ID = \"\"\n",
        "student_name = \"\"\n",
        "# Write a code yourself to print your student ID and name\n",
        "# Hint: Use the print command!"
      ],
      "execution_count": null,
      "outputs": []
    },
    {
      "cell_type": "markdown",
      "metadata": {
        "id": "xXYDBq5lnq4m"
      },
      "source": [
        "**Expected Output:**\n",
        "\n",
        "My student ID is: CSE 066 01 234 <br>\n",
        "My name is: John Doe"
      ]
    },
    {
      "cell_type": "markdown",
      "metadata": {
        "id": "qZn4E2zSo40x"
      },
      "source": [
        "---\n",
        "## **Question 2**\n",
        "\n",
        "### **Finding the maximum**\n",
        "\n",
        "Suppose we have two variables $a$ and $b$. We need to $print$ the maxmimum value between the two variables.\n",
        "\n",
        "Complete the following code, to print the maximum between these two variables.\n",
        "\n",
        "Hint: *Don't change anything that's already given in the program.*"
      ]
    },
    {
      "cell_type": "code",
      "metadata": {
        "id": "7GSa60Hmo8ow"
      },
      "source": [
        "a, b = 72, -6\n",
        "### Write your code here ###\n",
        "\n",
        "print(\"The maximum of a and b is:\",maximum)\n",
        "### End ###"
      ],
      "execution_count": null,
      "outputs": []
    },
    {
      "cell_type": "markdown",
      "metadata": {
        "id": "VD1Xckcgppdu"
      },
      "source": [
        "**Expected Output:**\n",
        "\n",
        "The maximum of a and b is: 72"
      ]
    },
    {
      "cell_type": "markdown",
      "metadata": {
        "id": "3CKblDqTEjmq"
      },
      "source": [
        "---\n",
        "## **Question 3**\n",
        "\n",
        "### **Finding the standard deviation**\n",
        "\n",
        "In statistics, the standard deviation is a measure of the amount of variation or dispersion of a set of values. A low standard deviation indicates that the values tend to be close to the mean of the set, while a high standard deviation indicates that the values are spread out over a wider range. [you can find more in [wikipedia](https://en.wikipedia.org/wiki/Standard_deviation)]\n",
        "\n",
        "We can calculate the standard deviation(SD) using the following formula:\n",
        "\n",
        "\\begin{equation}\n",
        "    \\sigma = \\sqrt{\\frac{\\sum{(x_{i} - \\mu)^2}}{N}}\n",
        "\\end{equation}\n",
        "\n",
        "where, $\\mu = mean$ of the numbers, $x_i$ is each value in the set and $N$ is the number of elements in the tuple. \n",
        "\n",
        "Write a program to calculate the standard deviation $\\sigma$ using the above formula.\n",
        "\n",
        "Hint: *Don't change anything that's already given in the program.*\n",
        "\n"
      ]
    },
    {
      "cell_type": "code",
      "metadata": {
        "id": "lV3ymG2mCMbI"
      },
      "source": [
        "### Write your code here ###\n",
        "import math\n",
        "vals = (12, 7, -3, 21, 26, 4)\n",
        "\n",
        "# Don't use the stdev() from statistics or std() from numpy\n",
        "\n",
        "print(\"The standard deviation of the set vals is:\", sd)\n",
        "### End ###"
      ],
      "execution_count": null,
      "outputs": []
    },
    {
      "cell_type": "markdown",
      "metadata": {
        "id": "-yJEYWRFoGpR"
      },
      "source": [
        "**Expected Output:**\n",
        "\n",
        "The standard deviation of the set vals is: 9.889669132764531"
      ]
    },
    {
      "cell_type": "markdown",
      "metadata": {
        "id": "8aLNz7QukwXA"
      },
      "source": [
        "---\n",
        "## **Question 4**\n",
        "\n",
        "### **Solving equations**\n",
        "\n",
        "Suppose we are considering an equation as follows:\n",
        "\n",
        "\\begin{equation}\n",
        "    x = y^3 + 3y^{2}z + 3yz^{2} + z^3\n",
        "\\end{equation}\n",
        "\n",
        "We need to calculate the value of $x$ for different values of $y$ and $z$. Complete the following program to $print$ values of $x$ for each value of $y$ and $z$.\n",
        "\n",
        "Hint: *Don't change anything that's already given in the program.*\n",
        "\n"
      ]
    },
    {
      "cell_type": "code",
      "metadata": {
        "id": "xZD5WpYilf5j"
      },
      "source": [
        "### Write your code here ###\n",
        "y = [1, 1, 3, 5, 8, 13]\n",
        "z = [1, 4, 9, 16, 25, 36]\n",
        "\n",
        "\n",
        "\n",
        "### End ###\n",
        "# Hint: it will print 6 values, as there are 6 values of y and z"
      ],
      "execution_count": null,
      "outputs": []
    },
    {
      "cell_type": "markdown",
      "metadata": {
        "id": "Jz0FN31OoUhm"
      },
      "source": [
        "**Expected Output:**\n",
        "\n",
        "For y= 1 and z= 1 , the value of x is 8<br>\n",
        "For y= 1 and z= 4 , the value of x is 125<br>\n",
        "For y= 3 and z= 9 , the value of x is 3186<br>\n",
        "For y= 5 and z= 16 , the value of x is 24621<br>\n",
        "For y= 8 and z= 25 , the value of x is 140937<br>\n",
        "For y= 13 and z= 36 , the value of x is 724177<br>"
      ]
    },
    {
      "cell_type": "markdown",
      "metadata": {
        "id": "aLeidDSipEvA"
      },
      "source": [
        "---\n",
        "## **Question 5**\n",
        "### **Solving equations**\n",
        "\n",
        "Suppose we an equation as follows:\n",
        "\n",
        "\\begin{equation}\n",
        "    x = y^2 + 7y + 32\n",
        "\\end{equation}\n",
        "\n",
        "We need to calculate the value of $x$ for different values of $y$. Complete the following program to $print$ values of $x$ for each value of $y$.\n",
        "\n",
        "Hint: *Don't change anything that's already given in the program.*"
      ]
    },
    {
      "cell_type": "code",
      "metadata": {
        "id": "AnDj0t5zpGCz"
      },
      "source": [
        "y = [2, 5, 7, 13]\n",
        "### Write your code here ###\n",
        "\n",
        "\n",
        "### End ###\n",
        "# Hint: it will print 4 values, as there are 4 values of y"
      ],
      "execution_count": null,
      "outputs": []
    },
    {
      "cell_type": "markdown",
      "metadata": {
        "id": "1OCM6JN3plwB"
      },
      "source": [
        "**Expected Output:**\n",
        "\n",
        "For y= 2 , value of x is: 50 <br>\n",
        "For y= 5 , value of x is: 92 <br>\n",
        "For y= 7 , value of x is: 130 <br>\n",
        "For y= 13 , value of x is: 292 <br>"
      ]
    },
    {
      "cell_type": "markdown",
      "metadata": {
        "id": "suiwSig9pOKP"
      },
      "source": [
        "---\n",
        "## **Question 6**\n",
        "### **Conditionals**\n",
        "\n",
        "Consider your student ID as a string. Write a program that will check if the numerical part of your student ID is an even or an odd number.\n",
        "\n",
        "N.B.: You can input your student ID as a string only. You need to convert that into an int or float number to check if it is even or odd. You should use the slice method and either of the type conversion methods.\n",
        "\n",
        "Hint: *Don't change anything that's already given in the program.*"
      ]
    },
    {
      "cell_type": "code",
      "metadata": {
        "id": "zRhOg_NcpPHV"
      },
      "source": [
        "student_ID = \"CSE06601234\" # use your student ID here\n",
        "### Write your code here ###\n",
        "\n",
        "\n",
        "### End ###"
      ],
      "execution_count": null,
      "outputs": []
    },
    {
      "cell_type": "markdown",
      "metadata": {
        "id": "5fYU74vypbqs"
      },
      "source": [
        "**Expected Output:**\n",
        "\n",
        "My student ID is CSE06601234 and it is an even number"
      ]
    },
    {
      "cell_type": "markdown",
      "metadata": {
        "id": "-v-3VpUjpTuW"
      },
      "source": [
        "---\n",
        "## **Question 7**\n",
        "### **Comparing Arrays**\n",
        "\n",
        "Consider two arrays as parameters of a function named $compare\\_arr$. Your task is to find out which array has a higher summation.\n",
        "\n",
        "N.B.: The output should print summation of both arrays and then show which array is larger in summation.\n",
        "\n",
        "Hint: *Don't change anything that's already given in the program.*\n",
        "\n"
      ]
    },
    {
      "cell_type": "code",
      "metadata": {
        "id": "cXMAoA1UpWIR"
      },
      "source": [
        "arr1 = [1, 3, 5, 7, 9 , 11, 13, 15, 17, 19, 21, 23]\n",
        "arr2 = [2, 4, 6, 8, 10, 12, 14, 16, 18, 20, 22]\n",
        "\n",
        "def compare_arr(arr1, arr2):\n",
        "### Write your code here ###\n",
        "\n",
        "# print summation of arr1\n",
        "# print summation of arr2\n",
        "# print which array is larger\n",
        "### End ###\n",
        "compare_arr(arr1, arr2)"
      ],
      "execution_count": null,
      "outputs": []
    },
    {
      "cell_type": "markdown",
      "metadata": {
        "id": "YCOqfr-tpWs_"
      },
      "source": [
        "**Expected Output:**\n",
        "\n",
        "The summation of arr1 is:  144 <br>\n",
        "The summation of arr2 is:  132 <br>\n",
        "Array 1 is larger."
      ]
    },
    {
      "cell_type": "markdown",
      "metadata": {
        "id": "pvKw1c-slzab"
      },
      "source": [
        "---\n",
        "## **Question 8**\n",
        "\n",
        "### **Creating two dictionaries from the same string**\n",
        "\n",
        "Consider the following paragraph as a string. \n",
        "\n",
        "Write a program that will create two dictionaries, $alphabet$ and $numbers$ and do the following tasks: \n",
        "\n",
        "1. The dictionary $alphabet$ should contain the $histogram$ of alphabets (i.e. number of occurances of each alphabet present in the string).\n",
        "\n",
        "2. The dictionary $numbers$ should contain the $histogram$ of digits (i.e. number of occurances of each digit present in the string).\n",
        "\n",
        "Next, print the frequency of each characters and digits in the dictionaries.\n",
        "\n",
        "N.B.: You the input paragraph as a string only. You need to check for \"int\" and \"strings\" in the paragraph and send them to relevant dictionaries.\n",
        "\n",
        "Hint: *Don't change anything that's already given in the program.*\n",
        "\n"
      ]
    },
    {
      "cell_type": "code",
      "metadata": {
        "id": "qr0sYEoImtbb"
      },
      "source": [
        "paragraph = \"Python 2.0 was released on 16 October 2000 with many major new\"\\\n",
        "            \" features, including a cycle-detecting garbage collector and\"\\\n",
        "            \" support for Unicode. Python 3.0 was released on 3 December 2008.\"\\\n",
        "            \" It was a major revision of the language that is not completely\"\\\n",
        "            \" backward-compatible. Many of its major features were backported\"\\\n",
        "            \" to Python 2.6.x and 2.7.x version series. Releases of Python 3\"\\\n",
        "            \" include the 2to3 utility, which automates (at least partially)\"\\\n",
        "            \" the translation of Python 2 code to Python 3.\"\n",
        "### Write your code here ###\n",
        "\n",
        "### End ###"
      ],
      "execution_count": null,
      "outputs": []
    },
    {
      "cell_type": "markdown",
      "metadata": {
        "id": "XQkAv-tipY2F"
      },
      "source": [
        "**Expected Output:**\n",
        "\n",
        "The histogram of characters in the paragraph is as follows:<br>\n",
        "The frequency of character  P is: 6 <br>\n",
        "The frequency of character  y is: 12<br>\n",
        "The frequency of character  t is: 37<br>\n",
        "The frequency of character  h is: 13<br>\n",
        "The frequency of character  o is: 33<br>\n",
        "The frequency of character  n is: 24<br>\n",
        "The frequency of character    is: 78<br>\n",
        "The frequency of character  . is: 11<br>\n",
        "The frequency of character  w is: 8<br>\n",
        "The frequency of character  a is: 34<br>\n",
        "The frequency of character  s is: 19<br>\n",
        "The frequency of character  r is: 21<br>\n",
        "The frequency of character  e is: 42<br>\n",
        "The frequency of character  l is: 17<br>\n",
        "The frequency of character  d is: 11<br>\n",
        "The frequency of character  O is: 1<br>\n",
        "The frequency of character  c is: 16<br>\n",
        "The frequency of character  b is: 6<br>\n",
        "The frequency of character  i is: 18<br>\n",
        "The frequency of character  m is: 8<br>\n",
        "The frequency of character  j is: 3<br>\n",
        "The frequency of character  f is: 7<br>\n",
        "The frequency of character  u is: 8<br>\n",
        "The frequency of character  , is: 2<br>\n",
        "The frequency of character  g is: 6<br>\n",
        "The frequency of character  - is: 2<br>\n",
        "The frequency of character  p is: 6<br>\n",
        "The frequency of character  U is: 1<br>\n",
        "The frequency of character  D is: 1<br>\n",
        "The frequency of character  I is: 1<br>\n",
        "The frequency of character  v is: 2<br>\n",
        "The frequency of character  k is: 2<br>\n",
        "The frequency of character  M is: 1<br>\n",
        "The frequency of character  x is: 2<br>\n",
        "The frequency of character  R is: 1<br>\n",
        "The frequency of character  ( is: 1<br>\n",
        "The frequency of character  ) is: 1<br>\n",
        "The histogram of numbers in the paragraph is as follows:<br>\n",
        "The frequency of digit  2 is: 7<br>\n",
        "The frequency of digit  0 is: 7<br>\n",
        "The frequency of digit  1 is: 1<br>\n",
        "The frequency of digit  6 is: 2<br>\n",
        "The frequency of digit  3 is: 5<br>\n",
        "The frequency of digit  8 is: 1<br>\n",
        "The frequency of digit  7 is: 1<br>"
      ]
    },
    {
      "cell_type": "markdown",
      "metadata": {
        "id": "xMAngSpVnB1j"
      },
      "source": [
        "---\n",
        "## **Question 9**\n",
        "\n",
        "### **Conditional series summation**\n",
        "\n",
        "Consider two arrays as parameters of a function named $add\\_arr$. Your task is to add all even values of $array_1$ with that from $array_2$ and add all odd values of $array_1$ with that from $array_2$. The function should $return$ the values as a $tuple$.\n",
        "\n",
        "N.B.: The output should print the initial arrays, and then print the individual $even\\_sum$ and $odd\\_sum$ outside the function definition.\n",
        "\n",
        "Hint: *Don't change anything that's already given in the program.*\n",
        "\n"
      ]
    },
    {
      "cell_type": "code",
      "metadata": {
        "id": "DWD-WaZ3pyNU"
      },
      "source": [
        "### Write your code here ###\n",
        "\n",
        "array1 = [1, 1, 3, 5, 8, 13, 21, 34, 55, 89]\n",
        "array2 = [1, 4, 9, 16, 25, 36, 49, 64, 91, 100]\n",
        "# Start function definition\n",
        "def add_arr(array1, array2):\n",
        "    # print contents of array1\n",
        "    # print contents of array2\n",
        "    # sum only even numbers from array1 and array2 in even_sum\n",
        "    # sum only odd numbers from array1 and array2 in odd_sum\n",
        "    # return the even_sum and odd_sum as a tuple\n",
        "    # end function definition\n",
        "\n",
        "# use tuple assignment to get even_sum and odd_sum from add_arr funciton call\n",
        "# print even_sum\n",
        "# print odd_sum\n",
        "### End ###"
      ],
      "execution_count": null,
      "outputs": []
    },
    {
      "cell_type": "markdown",
      "metadata": {
        "id": "zY33FGDnqhbS"
      },
      "source": [
        "**Expected Output:**\n",
        "\n",
        "Array 1 is:  [1, 1, 3, 5, 8, 13, 21, 34, 55, 89] <br>\n",
        "Array 2 is:  [1, 4, 9, 16, 25, 36, 49, 64, 91, 100] <br>\n",
        "The summation of even numbers of array 1 and array 2 is: 184 <br>\n",
        "The summation of odd numbers of array 1 and array 2 is: 363<br>"
      ]
    },
    {
      "cell_type": "markdown",
      "metadata": {
        "id": "siU5Ex9FrXA7"
      },
      "source": [
        "---\n",
        "# **That's all!**\n",
        "\n",
        "Be sure to download the completed .ipynb or .py file and submit it in Edmodo within the given time."
      ]
    }
  ]
}